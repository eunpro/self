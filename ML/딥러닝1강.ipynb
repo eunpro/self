{
  "nbformat": 4,
  "nbformat_minor": 0,
  "metadata": {
    "colab": {
      "name": "딥러닝1강.ipynb",
      "provenance": [],
      "collapsed_sections": [],
      "authorship_tag": "ABX9TyO99JZuRSxGwRcSBGqgWLWx",
      "include_colab_link": true
    },
    "kernelspec": {
      "name": "python3",
      "display_name": "Python 3"
    },
    "language_info": {
      "name": "python"
    }
  },
  "cells": [
    {
      "cell_type": "markdown",
      "metadata": {
        "id": "view-in-github",
        "colab_type": "text"
      },
      "source": [
        "<a href=\"https://colab.research.google.com/github/eunpro/self/blob/main/ML/%EB%94%A5%EB%9F%AC%EB%8B%9D1%EA%B0%95.ipynb\" target=\"_parent\"><img src=\"https://colab.research.google.com/assets/colab-badge.svg\" alt=\"Open In Colab\"/></a>"
      ]
    },
    {
      "cell_type": "code",
      "metadata": {
        "colab": {
          "base_uri": "https://localhost:8080/"
        },
        "id": "p312AzwEVCa1",
        "outputId": "aefef154-76d6-4b87-8c14-8917178327bf"
      },
      "source": [
        ">>> print(type(10))\n",
        ">>> print(type(2.718))\n",
        ">>> print(type(\"hello\"))"
      ],
      "execution_count": null,
      "outputs": [
        {
          "output_type": "stream",
          "text": [
            "<class 'int'>\n",
            "<class 'float'>\n",
            "<class 'str'>\n"
          ],
          "name": "stdout"
        }
      ]
    },
    {
      "cell_type": "code",
      "metadata": {
        "colab": {
          "base_uri": "https://localhost:8080/"
        },
        "id": "dDfaFJHjVW4c",
        "outputId": "f92a1207-8e92-4966-fa9e-5e0a532a8fcb"
      },
      "source": [
        "x = 10   # 초기화\n",
        "print(x) # x의 값 출력\n",
        "\n",
        "x = 100  # 변수에 값 대입\n",
        "print(x)\n",
        "\n",
        "y = 3.14\n",
        "x * y\n",
        "\n",
        "type(x * y)"
      ],
      "execution_count": null,
      "outputs": [
        {
          "output_type": "stream",
          "text": [
            "10\n",
            "100\n"
          ],
          "name": "stdout"
        },
        {
          "output_type": "execute_result",
          "data": {
            "text/plain": [
              "float"
            ]
          },
          "metadata": {
            "tags": []
          },
          "execution_count": 5
        }
      ]
    },
    {
      "cell_type": "code",
      "metadata": {
        "colab": {
          "base_uri": "https://localhost:8080/"
        },
        "id": "AZ4uvwk-VXB4",
        "outputId": "6c0917a8-a476-46b5-b9b2-972e7dc027be"
      },
      "source": [
        "a = [1, 2, 3, 4, 5] # 리스트 생성\n",
        "\n",
        "print(a)  # 리스트의 내용 출력\n",
        "[1, 2, 3, 4, 5]\n",
        "\n",
        "print(len(a))   # 리스트의 길이 출력\n",
        "\n",
        "print(a[0] )     # 첫 원소에 접근\n",
        "\n",
        "print(a[4]  )    # 다섯 번째 원소에 접근\n",
        "\n",
        "a[4] = 99 # 값 대입\n",
        "\n",
        "print(a)\n"
      ],
      "execution_count": null,
      "outputs": [
        {
          "output_type": "stream",
          "text": [
            "[1, 2, 3, 4, 5]\n",
            "5\n",
            "1\n",
            "5\n",
            "[1, 2, 3, 4, 99]\n"
          ],
          "name": "stdout"
        }
      ]
    },
    {
      "cell_type": "code",
      "metadata": {
        "colab": {
          "base_uri": "https://localhost:8080/"
        },
        "id": "OZLl9l20VXIt",
        "outputId": "6f59c9ce-5f62-4cbf-b091-9f3af65a6b6c"
      },
      "source": [
        "a[0:2] # 인덱스 0부터 2까지 얻기(2번째는 포함하지 않는다!)\n",
        "a[::2] # 처음부터 끝까지 2칸씩 건너뛴다\n",
        "a[:-1] # 처음부터 마지막 원소의 1개 앞까지 얻기\n",
        "a[::-1] # 처음부터 끝까지 역순으로 얻기\n",
        "a[1:] #처음부터 끝까지 얻기"
      ],
      "execution_count": null,
      "outputs": [
        {
          "output_type": "execute_result",
          "data": {
            "text/plain": [
              "[2, 3, 4, 99]"
            ]
          },
          "metadata": {
            "tags": []
          },
          "execution_count": 15
        }
      ]
    },
    {
      "cell_type": "code",
      "metadata": {
        "colab": {
          "base_uri": "https://localhost:8080/"
        },
        "id": "i1wlZgf4XZC0",
        "outputId": "ab413fdb-db29-4901-a000-cee277756761"
      },
      "source": [
        "me = {'height':180} # 딕셔너리 생성\n",
        "print(me['height'] ) # 원소에 접근\n",
        "\n",
        "me['weight'] = 70   # 새 원소 추가\n",
        "print(me)\n"
      ],
      "execution_count": null,
      "outputs": [
        {
          "output_type": "stream",
          "text": [
            "180\n",
            "{'height': 180, 'weight': 70}\n"
          ],
          "name": "stdout"
        }
      ]
    },
    {
      "cell_type": "code",
      "metadata": {
        "colab": {
          "base_uri": "https://localhost:8080/"
        },
        "id": "2RODeaflXZFb",
        "outputId": "c22a1dce-c924-477e-cfb4-c0e6ab12c1d1"
      },
      "source": [
        "hungry = True     # 배가 고프다.\n",
        "sleepy = False    # 졸리지 않다.\n",
        "print(type(hungry))\n",
        "\n",
        "print(not hungry)\n",
        "\n",
        "print(hungry and sleepy) # 배가 고프다 그리고 졸리지 않다.\n",
        "\n",
        "print(hungry or sleepy)  # 배가 고프다 또는 졸리지 않다.\n"
      ],
      "execution_count": null,
      "outputs": [
        {
          "output_type": "stream",
          "text": [
            "<class 'bool'>\n",
            "False\n",
            "False\n",
            "True\n"
          ],
          "name": "stdout"
        }
      ]
    },
    {
      "cell_type": "code",
      "metadata": {
        "colab": {
          "base_uri": "https://localhost:8080/"
        },
        "id": "iHQDY_nbXZIF",
        "outputId": "e7a422cd-430a-4b14-995b-9aac44a8fde1"
      },
      "source": [
        "hungry = True\n",
        "if hungry:\n",
        "  print(\"I'm hungry\")\n",
        "print('------------------------------------------------------------------------')\n",
        "hungry = False\n",
        "if hungry:\n",
        "  print(\"I'm hungry\")   # 들여쓰기는 공백 문자로\n",
        "else:\n",
        "  print(\"I'm not hungry\")\n",
        "  print(\"I'm sleepy\")\n"
      ],
      "execution_count": null,
      "outputs": [
        {
          "output_type": "stream",
          "text": [
            "I'm hungry\n",
            "------------------------------------------------------------------------\n",
            "I'm not hungry\n",
            "I'm sleepy\n"
          ],
          "name": "stdout"
        }
      ]
    },
    {
      "cell_type": "code",
      "metadata": {
        "colab": {
          "base_uri": "https://localhost:8080/"
        },
        "id": "1HedFgrWXZKq",
        "outputId": "89da7316-bd28-452e-a404-6ccbc8eaaca3"
      },
      "source": [
        "for i in[1, 2, 3, 4]:\n",
        "  print(i)"
      ],
      "execution_count": null,
      "outputs": [
        {
          "output_type": "stream",
          "text": [
            "1\n",
            "2\n",
            "3\n",
            "4\n"
          ],
          "name": "stdout"
        }
      ]
    },
    {
      "cell_type": "code",
      "metadata": {
        "colab": {
          "base_uri": "https://localhost:8080/"
        },
        "id": "qN6m2aCWXZM7",
        "outputId": "277f5d45-5752-4733-d3be-7c3322e37328"
      },
      "source": [
        "def hello():\n",
        "  print(\"Hello World!\")\n",
        "\n",
        "hello()"
      ],
      "execution_count": null,
      "outputs": [
        {
          "output_type": "stream",
          "text": [
            "Hello World!\n"
          ],
          "name": "stdout"
        }
      ]
    },
    {
      "cell_type": "code",
      "metadata": {
        "colab": {
          "base_uri": "https://localhost:8080/"
        },
        "id": "SPZWaWtrXZP8",
        "outputId": "3cb61884-42b2-4b30-dde1-969f09090357"
      },
      "source": [
        "def hello(object):\n",
        "  print(\"Hello \" + object + \"!\")\n",
        "\n",
        "hello(\"cat\")"
      ],
      "execution_count": null,
      "outputs": [
        {
          "output_type": "stream",
          "text": [
            "Hello cat!\n"
          ],
          "name": "stdout"
        }
      ]
    },
    {
      "cell_type": "code",
      "metadata": {
        "colab": {
          "base_uri": "https://localhost:8080/"
        },
        "id": "4Xp-57pQXZSl",
        "outputId": "e3d648b6-e695-4902-f3ad-90ea7b109177"
      },
      "source": [
        "! /content/hungry.py # 디렉터리로 이동 : 내 디렉토리=> C:\\workspace\\seltudy\n",
        "! python hungry.py"
      ],
      "execution_count": null,
      "outputs": [
        {
          "output_type": "stream",
          "text": [
            "/bin/bash: /content/hungry.py: Permission denied\n",
            "I'm hungry!\n"
          ],
          "name": "stdout"
        }
      ]
    },
    {
      "cell_type": "markdown",
      "metadata": {
        "id": "NNvZ28qpbFJT"
      },
      "source": [
        "\n",
        "생성자(constructor)\n",
        "\n",
        "**__init__**라는 특별한 메서드가 있는데, 클래스를 초기화하는 방법을 정의\n",
        "\n",
        "\n",
        "새로운 클래스를 정의합니다. 개발자가 직접 클래스를 정의하면 독자적인 자료형을 만들 수 있습니다. 또한, 클래스에는 그 클래스만의 전용 함수(메서드)와 속성을 정의할 수도 있습니다.\n",
        "\n",
        "**__init__**은 클래스의 인스턴스가 만들어질 때 한 번만 불립니다. 또, 파이썬에서는 메서드의 첫 번째 인수로 자신(자신의 인스턴스)을 나타내는 self를 명시적으로 쓰는 것이 특징입니다(다른 언어를 쓰던 사람은 이처럼 self를 쓰는 규칙을 기묘하게 느낄지도 모르겠네요)."
      ]
    },
    {
      "cell_type": "code",
      "metadata": {
        "id": "xwWKDMdSdHy_"
      },
      "source": [
        "class Man:\n",
        "    def __init__(self, name):\n",
        "        self.name = name\n",
        "        print(\"Initialized!\")\n",
        "\n",
        "    def hello(self):\n",
        "        print(\"Hello \" + self.name + \"!\")\n",
        "\n",
        "    def goodbye(self):\n",
        "        print(\"Good-bye \" + self.name + \"!\")\n",
        "\n",
        "m = Man(\"David\") #Man의 생성자(초기화 메서드)는 name이라는 인수를 받고, 그 인수로 인스턴스 변수인 self.name을 초기화합니다. \n",
        "                 #인스턴스 변수는 인스턴스별로 저장되는 변수입니다. \n",
        "                 #파이썬에서는 self.name처럼 self 다음에 속성 이름을 써서 인스턴스 변수를 작성하거나 접근할 수 있습니다.\n",
        "m.hello()\n",
        "m.goodbye()"
      ],
      "execution_count": null,
      "outputs": []
    },
    {
      "cell_type": "code",
      "metadata": {
        "colab": {
          "base_uri": "https://localhost:8080/"
        },
        "id": "w1YmeAvDafYZ",
        "outputId": "f27f2d15-cdc1-43d3-c9f4-bb299328e826"
      },
      "source": [
        "! python man.py"
      ],
      "execution_count": null,
      "outputs": [
        {
          "output_type": "stream",
          "text": [
            "Initialized!\n",
            "Hello David!\n",
            "Good-bye David!\n"
          ],
          "name": "stdout"
        }
      ]
    },
    {
      "cell_type": "code",
      "metadata": {
        "id": "ujmEJneWaff5"
      },
      "source": [
        "import numpy as np"
      ],
      "execution_count": null,
      "outputs": []
    },
    {
      "cell_type": "markdown",
      "metadata": {
        "id": "8IA7pPNU4jsX"
      },
      "source": [
        "np.array\n",
        "\n",
        "1차원배열 - 벡터(vector)\n",
        "\n",
        "2차원배열 - 행렬(matrix)\n",
        "\n",
        "3차원배열 - 텐서(tensor)\n"
      ]
    },
    {
      "cell_type": "code",
      "metadata": {
        "colab": {
          "base_uri": "https://localhost:8080/"
        },
        "id": "n5MO5aK4afi8",
        "outputId": "bb816125-d8ce-42b7-8dda-7e4a86b6d1cc"
      },
      "source": [
        "#[[넘파이 배열]]\n",
        "# 넘파이 배열을 만들 때는 np.array ( ) 메서드를 이용합니다. \n",
        "# np.array ( )는 파이썬의 리스트를 인수로 받아 넘파이 라이브러리가 제공하는 특수한 형태의 배열(numpy.ndarray )을 반환합니다.\n",
        "x = np.array([1.0, 2.0, 3.0])\n",
        "print(x)\n",
        "type(x)"
      ],
      "execution_count": null,
      "outputs": [
        {
          "output_type": "stream",
          "text": [
            "[1. 2. 3.]\n"
          ],
          "name": "stdout"
        },
        {
          "output_type": "execute_result",
          "data": {
            "text/plain": [
              "numpy.ndarray"
            ]
          },
          "metadata": {
            "tags": []
          },
          "execution_count": 45
        }
      ]
    },
    {
      "cell_type": "code",
      "metadata": {
        "colab": {
          "base_uri": "https://localhost:8080/"
        },
        "id": "3c6IXCG2afmM",
        "outputId": "4f94a843-0953-45da-b6f8-47a3bffa5620"
      },
      "source": [
        "#[[넘파이의 산술 연산]]\n",
        "x = np.array([1.0, 2.0, 3.0])\n",
        "y = np.array([2.0, 4.0, 6.0])\n",
        "x + y # 원소별 덧셈"
      ],
      "execution_count": null,
      "outputs": [
        {
          "output_type": "execute_result",
          "data": {
            "text/plain": [
              "array([3., 6., 9.])"
            ]
          },
          "metadata": {
            "tags": []
          },
          "execution_count": 48
        }
      ]
    },
    {
      "cell_type": "code",
      "metadata": {
        "colab": {
          "base_uri": "https://localhost:8080/"
        },
        "id": "k_j2JqY6ebzC",
        "outputId": "217a1671-2b79-43aa-e6fb-7011c9ba1d71"
      },
      "source": [
        "x - y #원소별 뺄셈"
      ],
      "execution_count": null,
      "outputs": [
        {
          "output_type": "execute_result",
          "data": {
            "text/plain": [
              "array([-1., -2., -3.])"
            ]
          },
          "metadata": {
            "tags": []
          },
          "execution_count": 49
        }
      ]
    },
    {
      "cell_type": "code",
      "metadata": {
        "colab": {
          "base_uri": "https://localhost:8080/"
        },
        "id": "pbVXqw78ej-4",
        "outputId": "298758cc-c96f-4c3c-adfa-2c9a140b4ff0"
      },
      "source": [
        "x * y # 원소별 곱셈"
      ],
      "execution_count": null,
      "outputs": [
        {
          "output_type": "execute_result",
          "data": {
            "text/plain": [
              "array([ 2.,  8., 18.])"
            ]
          },
          "metadata": {
            "tags": []
          },
          "execution_count": 50
        }
      ]
    },
    {
      "cell_type": "code",
      "metadata": {
        "colab": {
          "base_uri": "https://localhost:8080/"
        },
        "id": "nh_t2o0Ge9xI",
        "outputId": "2d1078cf-f911-4d27-8069-cf78447fe099"
      },
      "source": [
        " x / y"
      ],
      "execution_count": null,
      "outputs": [
        {
          "output_type": "execute_result",
          "data": {
            "text/plain": [
              "array([0.5, 0.5, 0.5])"
            ]
          },
          "metadata": {
            "tags": []
          },
          "execution_count": 51
        }
      ]
    },
    {
      "cell_type": "code",
      "metadata": {
        "colab": {
          "base_uri": "https://localhost:8080/"
        },
        "id": "SrhKPWSGe95M",
        "outputId": "a3a5d4c7-57a1-4230-cb20-8b5124493cf3"
      },
      "source": [
        "x = np.array([1.0, 2.0, 3.0])\n",
        "x / 2.0"
      ],
      "execution_count": null,
      "outputs": [
        {
          "output_type": "execute_result",
          "data": {
            "text/plain": [
              "array([0.5, 1. , 1.5])"
            ]
          },
          "metadata": {
            "tags": []
          },
          "execution_count": 52
        }
      ]
    },
    {
      "cell_type": "code",
      "metadata": {
        "colab": {
          "base_uri": "https://localhost:8080/"
        },
        "id": "q_08VQyke979",
        "outputId": "fb415a8d-63fa-481b-c44a-e7ae832ef166"
      },
      "source": [
        "#[[넘파이의 N차원 배열]]\n",
        "A = np.array([[1, 2], [3, 4]])\n",
        "print(A)\n",
        "print(A.shape)\n",
        "print(A.dtype)"
      ],
      "execution_count": null,
      "outputs": [
        {
          "output_type": "stream",
          "text": [
            "[[1 2]\n",
            " [3 4]]\n",
            "(2, 2)\n",
            "int64\n"
          ],
          "name": "stdout"
        }
      ]
    },
    {
      "cell_type": "code",
      "metadata": {
        "colab": {
          "base_uri": "https://localhost:8080/"
        },
        "id": "QCF7Cmsae9-Z",
        "outputId": "67744f07-4935-41d3-f86a-2f407f25217c"
      },
      "source": [
        "B = np.array([[3, 0], [0, 6]])\n",
        "print(A + B)\n",
        "print(A * B)"
      ],
      "execution_count": null,
      "outputs": [
        {
          "output_type": "stream",
          "text": [
            "[[ 4  2]\n",
            " [ 3 10]]\n",
            "[[ 3  0]\n",
            " [ 0 24]]\n"
          ],
          "name": "stdout"
        }
      ]
    },
    {
      "cell_type": "code",
      "metadata": {
        "colab": {
          "base_uri": "https://localhost:8080/"
        },
        "id": "LzxHqOa5e-Av",
        "outputId": "e794c7be-fc8a-43cf-bd11-5d04aeb735dd"
      },
      "source": [
        "# 브로드캐스트: 넘파이 배열과 스칼라값의 조합으로 산술 연산 수행\n",
        "print(A)\n",
        "A * 10 #A:넘파이배열, 10:스칼라값"
      ],
      "execution_count": null,
      "outputs": [
        {
          "output_type": "stream",
          "text": [
            "[[1 2]\n",
            " [3 4]]\n"
          ],
          "name": "stdout"
        },
        {
          "output_type": "execute_result",
          "data": {
            "text/plain": [
              "array([[10, 20],\n",
              "       [30, 40]])"
            ]
          },
          "metadata": {
            "tags": []
          },
          "execution_count": 60
        }
      ]
    },
    {
      "cell_type": "code",
      "metadata": {
        "colab": {
          "base_uri": "https://localhost:8080/"
        },
        "id": "ByTJbWrce-Dv",
        "outputId": "43fa669e-9ce7-48cd-852a-f63fd2426cb9"
      },
      "source": [
        "X = np.array([[51, 55], [14, 19], [0, 4]])\n",
        "print(X)\n",
        "print('------------------------------------------------------------------------')\n",
        "print(X[0])     # 0행\n",
        "print('------------------------------------------------------------------------')\n",
        "print(X[0][1])  # (0, 1) 위치의 원소"
      ],
      "execution_count": null,
      "outputs": [
        {
          "output_type": "stream",
          "text": [
            "[[51 55]\n",
            " [14 19]\n",
            " [ 0  4]]\n",
            "------------------------------------------------------------------------\n",
            "[51 55]\n",
            "------------------------------------------------------------------------\n",
            "55\n"
          ],
          "name": "stdout"
        }
      ]
    },
    {
      "cell_type": "code",
      "metadata": {
        "colab": {
          "base_uri": "https://localhost:8080/"
        },
        "id": "fWbheSabgfVj",
        "outputId": "2afbdaf3-247f-4768-91cb-e895874dae45"
      },
      "source": [
        "for row in X:\n",
        "  print(row)"
      ],
      "execution_count": null,
      "outputs": [
        {
          "output_type": "stream",
          "text": [
            "[51 55]\n",
            "[14 19]\n",
            "[0 4]\n"
          ],
          "name": "stdout"
        }
      ]
    },
    {
      "cell_type": "code",
      "metadata": {
        "colab": {
          "base_uri": "https://localhost:8080/"
        },
        "id": "_DEEhK0EgfYL",
        "outputId": "7fa8bfc3-4d1d-4470-e64a-af815bcdeaa8"
      },
      "source": [
        "X = X.flatten()        # X를 1차원 배열로 변환(평탄화)\n",
        "print(X)"
      ],
      "execution_count": null,
      "outputs": [
        {
          "output_type": "stream",
          "text": [
            "[51 55 14 19  0  4]\n"
          ],
          "name": "stdout"
        }
      ]
    },
    {
      "cell_type": "code",
      "metadata": {
        "colab": {
          "base_uri": "https://localhost:8080/"
        },
        "id": "y8i80rwggfbE",
        "outputId": "46dbc6bf-9e22-4054-b358-05ddd625b514"
      },
      "source": [
        "X[np.array([0, 2, 4])] # 인덱스가 0, 2, 4인 원소 얻기"
      ],
      "execution_count": null,
      "outputs": [
        {
          "output_type": "execute_result",
          "data": {
            "text/plain": [
              "array([51, 14,  0])"
            ]
          },
          "metadata": {
            "tags": []
          },
          "execution_count": 66
        }
      ]
    },
    {
      "cell_type": "code",
      "metadata": {
        "colab": {
          "base_uri": "https://localhost:8080/"
        },
        "id": "hUCIL4vZgfdc",
        "outputId": "2e8db815-8c05-4ce3-ab05-8304999480ec"
      },
      "source": [
        "#X = [51 55 14 19  0  4]\n",
        "X > 15"
      ],
      "execution_count": null,
      "outputs": [
        {
          "output_type": "execute_result",
          "data": {
            "text/plain": [
              "array([ True,  True, False,  True, False, False])"
            ]
          },
          "metadata": {
            "tags": []
          },
          "execution_count": 68
        }
      ]
    },
    {
      "cell_type": "code",
      "metadata": {
        "colab": {
          "base_uri": "https://localhost:8080/"
        },
        "id": "6Qmb0CA6gff2",
        "outputId": "24baa240-66d3-4209-876a-118c57550956"
      },
      "source": [
        "X[X>15] #값이 15보다 큰 원소만 꺼내고 있습니다."
      ],
      "execution_count": null,
      "outputs": [
        {
          "output_type": "execute_result",
          "data": {
            "text/plain": [
              "array([51, 55, 19])"
            ]
          },
          "metadata": {
            "tags": []
          },
          "execution_count": 69
        }
      ]
    },
    {
      "cell_type": "code",
      "metadata": {
        "colab": {
          "base_uri": "https://localhost:8080/",
          "height": 265
        },
        "id": "shC3hPBrgfiZ",
        "outputId": "d844e899-197e-476c-a6c1-fd5752cdecff"
      },
      "source": [
        "import numpy as np\n",
        "import matplotlib.pyplot as plt\n",
        "\n",
        "# 데이터 준비\n",
        "x = np.arange(0, 6, 0.1) # 0에서 6까지 0.1 간격으로 생성\n",
        "y = np.sin(x) #x의 각 원소에 넘파이의 sin 함수인 np.sin ( )을 적용하여 변수 y에 할당\n",
        "\n",
        "# 그래프 그리기\n",
        "plt.plot(x, y) # x와 y를 인수로 plt.plot 메서드를 호출해 그래프를 그\n",
        "plt.show()"
      ],
      "execution_count": null,
      "outputs": [
        {
          "output_type": "display_data",
          "data": {
            "image/png": "[encoded data removed]",
            "text/plain": [
              "<Figure size 432x288 with 1 Axes>"
            ]
          },
          "metadata": {
            "tags": [],
            "needs_background": "light"
          }
        }
      ]
    },
    {
      "cell_type": "code",
      "metadata": {
        "colab": {
          "base_uri": "https://localhost:8080/",
          "height": 350
        },
        "id": "bbWFU0H7gfmb",
        "outputId": "cb227262-f687-49cc-f3f6-acd449372780"
      },
      "source": [
        "import numpy as np\n",
        "import matplotlib.pyplot as plt\n",
        "\n",
        "# 데이터 준비\n",
        "x = np.arange(0, 6, 0.1) # 0에서 6까지 0.1 간격으로 생성\n",
        "y1 = np.sin(x)\n",
        "y2 = np.cos(x)\n",
        "\n",
        "# 그래프 그리기\n",
        "plt.figure(figsize=(8,5))\n",
        "plt.plot(x, y1, label=\"sin\")\n",
        "plt.plot(x, y2, linestyle = \"--\", label=\"cos\") # cos 함수는 점선으로 그리기\n",
        "plt.xlabel(\"x\")        # x축 이름\n",
        "plt.ylabel(\"y\")        # y축 이름\n",
        "plt.title('sin & cos') # 제목\n",
        "plt.legend()\n",
        "plt.show()"
      ],
      "execution_count": null,
      "outputs": [
        {
          "output_type": "display_data",
          "data": {
            "image/png": "[encoded data removed]",
            "text/plain": [
              "<Figure size 576x360 with 1 Axes>"
            ]
          },
          "metadata": {
            "tags": [],
            "needs_background": "light"
          }
        }
      ]
    },
    {
      "cell_type": "code",
      "metadata": {
        "colab": {
          "base_uri": "https://localhost:8080/",
          "height": 269
        },
        "id": "mLg8-irbi7rf",
        "outputId": "e3584acc-8e8b-4ea6-a2d9-e8d66d1d91de"
      },
      "source": [
        "import matplotlib.pyplot as plt\n",
        "from matplotlib.image import imread\n",
        "\n",
        "img = imread('sin&cos.png') # 이미지 읽어오기(적절한 경로를 설정하세요!)\n",
        "\n",
        "plt.imshow(img)\n",
        "plt.show()"
      ],
      "execution_count": null,
      "outputs": [
        {
          "output_type": "display_data",
          "data": {
            "image/png": "[encoded data removed]",
            "text/plain": [
              "<Figure size 432x288 with 1 Axes>"
            ]
          },
          "metadata": {
            "tags": [],
            "needs_background": "light"
          }
        }
      ]
    },
    {
      "cell_type": "markdown",
      "metadata": {
        "id": "4k68b0-85xgw"
      },
      "source": [
        "정리\n",
        "    파이썬은 간단하고 익히기 쉬운 프로그래밍 언어다.\n",
        "    \n",
        "    파이썬은 오픈 소스여서 자유롭게 사용할 수 있다.\n",
        "\n",
        "    외부 라이브러리로는 넘파이와 matplotlib을 이용한다.\n",
        "    \n",
        "    파이썬을 실행하는 방식에는 ‘인터프리터’와 ‘스크립트 파일’ 두 가지가 있다.\n",
        "\n",
        "    파이썬에서는 함수와 클래스 같은 모듈로 구현을 정리할 수 있다.\n",
        "\n",
        "    넘파이는 다차원 배열을 다루는 편리한 메서드를 많이 제공한다.\n",
        "\n",
        "        인터프리터(interpreter, 해석기)란 소스코드를 바로 실행하는 컴퓨터 프로그램 또는 환경\n",
        "        스크립트 파일: 확장자 .py 파일로 저장하고 \"python 스크립트.py\"처럼 저장한 파일로 실행"
      ]
    },
    {
      "cell_type": "code",
      "metadata": {
        "id": "MUzGTJkDi75f"
      },
      "source": [
        ""
      ],
      "execution_count": null,
      "outputs": []
    },
    {
      "cell_type": "code",
      "metadata": {
        "id": "icopuEQ4i791"
      },
      "source": [
        ""
      ],
      "execution_count": null,
      "outputs": []
    },
    {
      "cell_type": "code",
      "metadata": {
        "id": "5RxLMYMbi8Aq"
      },
      "source": [
        ""
      ],
      "execution_count": null,
      "outputs": []
    },
    {
      "cell_type": "code",
      "metadata": {
        "id": "zUQ47_qxi8DZ"
      },
      "source": [
        ""
      ],
      "execution_count": null,
      "outputs": []
    },
    {
      "cell_type": "code",
      "metadata": {
        "id": "Dcltrqofi8GA"
      },
      "source": [
        ""
      ],
      "execution_count": null,
      "outputs": []
    }
  ]
}